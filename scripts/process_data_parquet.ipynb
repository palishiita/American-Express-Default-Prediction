{
 "cells": [
  {
   "cell_type": "code",
   "execution_count": 1,
   "metadata": {},
   "outputs": [
    {
     "name": "stdout",
     "output_type": "stream",
     "text": [
      "Requirement already satisfied: pandas in /anaconda/envs/azureml_py38/lib/python3.10/site-packages (1.3.5)\n",
      "Requirement already satisfied: pyarrow in /anaconda/envs/azureml_py38/lib/python3.10/site-packages (14.0.2)\n",
      "Requirement already satisfied: azure-identity in /anaconda/envs/azureml_py38/lib/python3.10/site-packages (1.17.1)\n",
      "Requirement already satisfied: azure-storage-blob in /anaconda/envs/azureml_py38/lib/python3.10/site-packages (12.13.0)\n",
      "Requirement already satisfied: azure-core in /anaconda/envs/azureml_py38/lib/python3.10/site-packages (1.30.2)\n",
      "Requirement already satisfied: pytz>=2017.3 in /anaconda/envs/azureml_py38/lib/python3.10/site-packages (from pandas) (2022.5)\n",
      "Requirement already satisfied: numpy>=1.21.0 in /anaconda/envs/azureml_py38/lib/python3.10/site-packages (from pandas) (1.23.5)\n",
      "Requirement already satisfied: python-dateutil>=2.7.3 in /anaconda/envs/azureml_py38/lib/python3.10/site-packages (from pandas) (2.9.0.post0)\n",
      "Requirement already satisfied: typing-extensions>=4.0.0 in /anaconda/envs/azureml_py38/lib/python3.10/site-packages (from azure-identity) (4.12.2)\n",
      "Requirement already satisfied: msal>=1.24.0 in /anaconda/envs/azureml_py38/lib/python3.10/site-packages (from azure-identity) (1.30.0)\n",
      "Requirement already satisfied: cryptography>=2.5 in /anaconda/envs/azureml_py38/lib/python3.10/site-packages (from azure-identity) (38.0.4)\n",
      "Requirement already satisfied: msal-extensions>=0.3.0 in /anaconda/envs/azureml_py38/lib/python3.10/site-packages (from azure-identity) (1.2.0)\n",
      "Requirement already satisfied: msrest>=0.6.21 in /anaconda/envs/azureml_py38/lib/python3.10/site-packages (from azure-storage-blob) (0.7.1)\n",
      "Requirement already satisfied: requests>=2.21.0 in /anaconda/envs/azureml_py38/lib/python3.10/site-packages (from azure-core) (2.32.3)\n",
      "Requirement already satisfied: six>=1.11.0 in /anaconda/envs/azureml_py38/lib/python3.10/site-packages (from azure-core) (1.16.0)\n",
      "Requirement already satisfied: cffi>=1.12 in /anaconda/envs/azureml_py38/lib/python3.10/site-packages (from cryptography>=2.5->azure-identity) (1.16.0)\n",
      "Requirement already satisfied: PyJWT[crypto]<3,>=1.0.0 in /anaconda/envs/azureml_py38/lib/python3.10/site-packages (from msal>=1.24.0->azure-identity) (2.4.0)\n",
      "Requirement already satisfied: portalocker<3,>=1.4 in /anaconda/envs/azureml_py38/lib/python3.10/site-packages (from msal-extensions>=0.3.0->azure-identity) (2.10.1)\n",
      "Requirement already satisfied: isodate>=0.6.0 in /anaconda/envs/azureml_py38/lib/python3.10/site-packages (from msrest>=0.6.21->azure-storage-blob) (0.6.1)\n",
      "Requirement already satisfied: requests-oauthlib>=0.5.0 in /anaconda/envs/azureml_py38/lib/python3.10/site-packages (from msrest>=0.6.21->azure-storage-blob) (2.0.0)\n",
      "Requirement already satisfied: certifi>=2017.4.17 in /anaconda/envs/azureml_py38/lib/python3.10/site-packages (from msrest>=0.6.21->azure-storage-blob) (2024.8.30)\n",
      "Requirement already satisfied: urllib3<3,>=1.21.1 in /anaconda/envs/azureml_py38/lib/python3.10/site-packages (from requests>=2.21.0->azure-core) (1.26.19)\n",
      "Requirement already satisfied: idna<4,>=2.5 in /anaconda/envs/azureml_py38/lib/python3.10/site-packages (from requests>=2.21.0->azure-core) (3.7)\n",
      "Requirement already satisfied: charset-normalizer<4,>=2 in /anaconda/envs/azureml_py38/lib/python3.10/site-packages (from requests>=2.21.0->azure-core) (3.3.2)\n",
      "Requirement already satisfied: pycparser in /anaconda/envs/azureml_py38/lib/python3.10/site-packages (from cffi>=1.12->cryptography>=2.5->azure-identity) (2.22)\n",
      "Requirement already satisfied: oauthlib>=3.0.0 in /anaconda/envs/azureml_py38/lib/python3.10/site-packages (from requests-oauthlib>=0.5.0->msrest>=0.6.21->azure-storage-blob) (3.2.2)\n"
     ]
    }
   ],
   "source": [
    "! pip install pandas pyarrow azure-identity azure-storage-blob azure-core"
   ]
  },
  {
   "cell_type": "code",
   "execution_count": 2,
   "metadata": {},
   "outputs": [],
   "source": [
    "import zipfile\n",
    "import os\n",
    "import pandas as pd\n",
    "import pyarrow as pa\n",
    "import pyarrow.parquet as pq\n",
    "from azure.identity import DefaultAzureCredential\n",
    "from azure.storage.blob import BlobServiceClient\n",
    "from azure.core.exceptions import HttpResponseError\n",
    "import logging"
   ]
  },
  {
   "cell_type": "code",
   "execution_count": 3,
   "metadata": {},
   "outputs": [
    {
     "name": "stderr",
     "output_type": "stream",
     "text": [
      "INFO:azure.identity._credentials.environment:No environment configuration found.\n",
      "INFO:azure.identity._credentials.managed_identity:ManagedIdentityCredential will use Azure ML managed identity\n"
     ]
    }
   ],
   "source": [
    "# Configure logging\n",
    "logging.basicConfig(level=logging.INFO)\n",
    "logger = logging.getLogger(__name__)\n",
    "\n",
    "# Define Storage Account and Container details\n",
    "STORAGE_ACCOUNT_NAME = \"amldatalakestore\"\n",
    "CONTAINER_NAME = \"default-prediction-data\"\n",
    "ZIP_FILE_NAME = \"amex-default-prediction.zip\"\n",
    "EXTRACTION_FOLDER = \"unzipped_files\"\n",
    "\n",
    "# Authenticate using Azure Identity\n",
    "credential = DefaultAzureCredential()"
   ]
  },
  {
   "cell_type": "code",
   "execution_count": 4,
   "metadata": {},
   "outputs": [
    {
     "name": "stderr",
     "output_type": "stream",
     "text": [
      "INFO:__main__:Downloading 'amex-default-prediction.zip' from container 'default-prediction-data'...\n",
      "INFO:azure.identity._credentials.chained:DefaultAzureCredential acquired a token from ManagedIdentityCredential\n",
      "INFO:__main__:'amex-default-prediction.zip' downloaded successfully.\n"
     ]
    }
   ],
   "source": [
    "try:\n",
    "    # Connect to Azure Data Lake Storage Account\n",
    "    blob_service_client = BlobServiceClient(\n",
    "        account_url=f\"https://{STORAGE_ACCOUNT_NAME}.blob.core.windows.net\",\n",
    "        credential=credential\n",
    "    )\n",
    "    container_client = blob_service_client.get_container_client(CONTAINER_NAME)\n",
    "\n",
    "    # Download the zip file from the container\n",
    "    logger.info(f\"Downloading '{ZIP_FILE_NAME}' from container '{CONTAINER_NAME}'...\")\n",
    "    with open(ZIP_FILE_NAME, \"wb\") as zip_file:\n",
    "        download_stream = container_client.download_blob(ZIP_FILE_NAME)\n",
    "        zip_file.write(download_stream.readall())\n",
    "\n",
    "    logger.info(f\"'{ZIP_FILE_NAME}' downloaded successfully.\")\n",
    "\n",
    "except HttpResponseError as e:\n",
    "    logger.error(f\"An HTTP error occurred while downloading the zip file: {e}\")\n",
    "except Exception as e:\n",
    "    logger.error(f\"An unexpected error occurred: {e}\")"
   ]
  },
  {
   "cell_type": "code",
   "execution_count": 5,
   "metadata": {},
   "outputs": [
    {
     "name": "stderr",
     "output_type": "stream",
     "text": [
      "INFO:__main__:Unzipping the file...\n",
      "INFO:__main__:'amex-default-prediction.zip' unzipped successfully into 'unzipped_files'.\n"
     ]
    }
   ],
   "source": [
    "# Unzipping the downloaded file\n",
    "try:\n",
    "    logger.info(\"Unzipping the file...\")\n",
    "    with zipfile.ZipFile(ZIP_FILE_NAME, 'r') as zip_ref:\n",
    "        zip_ref.extractall(EXTRACTION_FOLDER)\n",
    "    logger.info(f\"'{ZIP_FILE_NAME}' unzipped successfully into '{EXTRACTION_FOLDER}'.\")\n",
    "except Exception as e:\n",
    "    logger.error(f\"An error occurred while unzipping the file: {e}\")"
   ]
  },
  {
   "cell_type": "code",
   "execution_count": 6,
   "metadata": {},
   "outputs": [
    {
     "name": "stderr",
     "output_type": "stream",
     "text": [
      "INFO:__main__:Converting 'sample_submission.csv' to Parquet format...\n",
      "INFO:__main__:'sample_submission.csv' converted to Parquet successfully.\n",
      "INFO:__main__:Converting 'test_data.csv' to Parquet format...\n"
     ]
    },
    {
     "ename": "",
     "evalue": "",
     "output_type": "error",
     "traceback": [
      "\u001b[1;31mThe Kernel crashed while executing code in the current cell or a previous cell. \n",
      "\u001b[1;31mPlease review the code in the cell(s) to identify a possible cause of the failure. \n",
      "\u001b[1;31mClick <a href='https://aka.ms/vscodeJupyterKernelCrash'>here</a> for more info. \n",
      "\u001b[1;31mView Jupyter <a href='command:jupyter.viewOutput'>log</a> for further details."
     ]
    },
    {
     "ename": "",
     "evalue": "",
     "output_type": "error",
     "traceback": [
      "\u001b[1;31mCanceled future for execute_request message before replies were done"
     ]
    },
    {
     "ename": "",
     "evalue": "",
     "output_type": "error",
     "traceback": [
      "\u001b[1;31mCanceled future for execute_request message before replies were done. \n",
      "\u001b[1;31mView Jupyter <a href='command:jupyter.viewOutput'>log</a> for further details."
     ]
    }
   ],
   "source": [
    "# Convert CSV files to Parquet format\n",
    "for csv_file in os.listdir(EXTRACTION_FOLDER):\n",
    "    if csv_file.endswith('.csv'):\n",
    "        csv_path = os.path.join(EXTRACTION_FOLDER, csv_file)\n",
    "        try:\n",
    "            logger.info(f\"Converting '{csv_file}' to Parquet format...\")\n",
    "            df = pd.read_csv(csv_path)\n",
    "            \n",
    "            # Convert to Parquet using PyArrow\n",
    "            table = pa.Table.from_pandas(df)\n",
    "            parquet_file_path = csv_path.replace('.csv', '.parquet')\n",
    "            pq.write_table(table, parquet_file_path)\n",
    "\n",
    "            logger.info(f\"'{csv_file}' converted to Parquet successfully.\")\n",
    "\n",
    "        except Exception as e:\n",
    "            logger.error(f\"An error occurred while converting '{csv_file}' to Parquet: {e}\")"
   ]
  }
 ],
 "metadata": {
  "kernelspec": {
   "display_name": "Python 3.8 - AzureML",
   "language": "python",
   "name": "python38-azureml"
  },
  "language_info": {
   "codemirror_mode": {
    "name": "ipython",
    "version": 3
   },
   "file_extension": ".py",
   "mimetype": "text/x-python",
   "name": "python",
   "nbconvert_exporter": "python",
   "pygments_lexer": "ipython3",
   "version": "3.10.11"
  }
 },
 "nbformat": 4,
 "nbformat_minor": 2
}
